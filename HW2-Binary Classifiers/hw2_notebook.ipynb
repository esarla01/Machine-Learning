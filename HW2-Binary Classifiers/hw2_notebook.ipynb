{
 "cells": [
  {
   "cell_type": "markdown",
   "metadata": {},
   "source": [
    "# HW2 for CS 135 in Fall 2023\n",
    "\n",
    "Instructions:\n",
    "<https://www.cs.tufts.edu/cs/135/2023f/hw2.html>\n",
    "\n",
    "This notebook is specifically for the report related to Problem 1\n",
    "\n",
    "# Problem 1: Binary Classifier for Cancer-Risk Screening "
   ]
  },
  {
   "cell_type": "markdown",
   "metadata": {},
   "source": [
    "### Note: \n",
    "* You will need to finish **Code Task** for **Problem 1** before working on this notebook. \n",
    "* Your outputs, including tables and figures, don't need to be exactly the same as our sample outputs, but we do expect something as clear."
   ]
  },
  {
   "cell_type": "code",
   "execution_count": 2,
   "metadata": {},
   "outputs": [],
   "source": [
    "import os\n",
    "import numpy as np\n",
    "import pandas as pd\n",
    "\n",
    "import sklearn.linear_model\n",
    "import sklearn.metrics"
   ]
  },
  {
   "cell_type": "code",
   "execution_count": 3,
   "metadata": {},
   "outputs": [],
   "source": [
    "# import plotting libraries\n",
    "import matplotlib\n",
    "import matplotlib.pyplot as plt\n",
    "\n",
    "%matplotlib inline\n",
    "plt.style.use('seaborn-v0_8') # pretty matplotlib plots\n",
    "\n",
    "import seaborn as sns\n",
    "sns.set('notebook', style='whitegrid', font_scale=1.25)\n",
    "\n",
    "# autoload changes in other files, so you don't have to restart the Jupyter kernel each time you make a change to the imported code.\n",
    "%load_ext autoreload\n",
    "%autoreload 2"
   ]
  },
  {
   "cell_type": "markdown",
   "metadata": {},
   "source": [
    "# Import student-edited code \n",
    "\n",
    "Remember, you should have *completed* the Code Tasks for Problem 1 first."
   ]
  },
  {
   "cell_type": "code",
   "execution_count": 4,
   "metadata": {},
   "outputs": [],
   "source": [
    "if not os.path.exists('binary_metrics.py'):\n",
    "    raise ImportError(\"CANNOT FIND binary_metrics.py. Make sure you run this notebook in same directory as your .py files.\")"
   ]
  },
  {
   "cell_type": "code",
   "execution_count": 5,
   "metadata": {},
   "outputs": [],
   "source": [
    "from binary_metrics import (\n",
    "    calc_ACC, calc_TPR, calc_PPV)"
   ]
  },
  {
   "cell_type": "markdown",
   "metadata": {},
   "source": [
    "# Import helper code (will work as provided, no edits needed)"
   ]
  },
  {
   "cell_type": "code",
   "execution_count": 6,
   "metadata": {},
   "outputs": [],
   "source": [
    "import threshold_selection"
   ]
  },
  {
   "cell_type": "code",
   "execution_count": 7,
   "metadata": {},
   "outputs": [],
   "source": [
    "from confusion_matrix import calc_confusion_matrix_for_probas_and_threshold"
   ]
  },
  {
   "cell_type": "markdown",
   "metadata": {},
   "source": [
    "# Provided function for computing mean binary cross entropy\n",
    "\n",
    "Here, we provide a *completed* function you can use as is for Problem 1 report.\n",
    "\n",
    "Later in Problem 2, you'll write your own version of this function without using sklearn.\n",
    "\n",
    "Remember, we want the *base-2* cross entropy:\n",
    "\n",
    "$$\n",
    "BCE(y, p) = - y \\log_2 p - (1-y) \\log_2(1-p)\n",
    "$$"
   ]
  },
  {
   "cell_type": "code",
   "execution_count": 8,
   "metadata": {},
   "outputs": [],
   "source": [
    "def calc_mean_binary_cross_entropy_from_probas(ytrue_N, yproba1_N):\n",
    "    ''' Compute mean binary cross entropy\n",
    "    \n",
    "    Args\n",
    "    ----\n",
    "    ytrue_N : 1D array, size (n_examples,) = (N,)\n",
    "    yproba1_N : 1D array, size (n_examples,) = (N,)\n",
    "    \n",
    "    Returns\n",
    "    -------\n",
    "    mean_bce : float\n",
    "        mean binary cross entropy across all N examples\n",
    "    '''\n",
    "    return sklearn.metrics.log_loss(ytrue_N, yproba1_N, labels=[0,1]) / np.log(2.0)"
   ]
  },
  {
   "cell_type": "code",
   "execution_count": 9,
   "metadata": {},
   "outputs": [
    {
     "data": {
      "text/plain": [
       "6.643856189774724"
      ]
     },
     "execution_count": 9,
     "metadata": {},
     "output_type": "execute_result"
    }
   ],
   "source": [
    "# Check that BCE loss is high if true class is 1 but probability is low\n",
    "calc_mean_binary_cross_entropy_from_probas([1.], [0.01])"
   ]
  },
  {
   "cell_type": "code",
   "execution_count": 10,
   "metadata": {},
   "outputs": [
    {
     "data": {
      "text/plain": [
       "1.0"
      ]
     },
     "execution_count": 10,
     "metadata": {},
     "output_type": "execute_result"
    }
   ],
   "source": [
    "# Check that BCE loss is exactly 1 if true class is 1 but probability is 0.5\n",
    "calc_mean_binary_cross_entropy_from_probas([1.], [0.5])"
   ]
  },
  {
   "cell_type": "code",
   "execution_count": 11,
   "metadata": {},
   "outputs": [
    {
     "data": {
      "text/plain": [
       "0.01449956969511509"
      ]
     },
     "execution_count": 11,
     "metadata": {},
     "output_type": "execute_result"
    }
   ],
   "source": [
    "# Check that BCE loss is close to zero if true class is 1 but probability is 0.99\n",
    "calc_mean_binary_cross_entropy_from_probas([1.], [0.99])"
   ]
  },
  {
   "cell_type": "markdown",
   "metadata": {},
   "source": [
    "# Load the dataset for problem 1"
   ]
  },
  {
   "cell_type": "code",
   "execution_count": 12,
   "metadata": {},
   "outputs": [],
   "source": [
    "# Make sure you have downloaded data and your directory is correct\n",
    "DATA_DIR = os.path.join('data_cancer') "
   ]
  },
  {
   "cell_type": "code",
   "execution_count": 13,
   "metadata": {},
   "outputs": [
    {
     "name": "stdout",
     "output_type": "stream",
     "text": [
      "Loaded  train : shape (390, 3)\n",
      "Loaded  valid : shape (180, 3)\n",
      "Loaded   test : shape (180, 3)\n"
     ]
    }
   ],
   "source": [
    "# Load 3 feature version of x arrays\n",
    "x_tr_M3 = np.loadtxt(os.path.join(DATA_DIR, 'x_train.csv'), delimiter=',', skiprows=1)\n",
    "x_va_N3 = np.loadtxt(os.path.join(DATA_DIR, 'x_valid.csv'), delimiter=',', skiprows=1)\n",
    "x_te_N3 = np.loadtxt(os.path.join(DATA_DIR, 'x_test.csv'), delimiter=',', skiprows=1)\n",
    "\n",
    "for label, x in [('train', x_tr_M3), ('valid', x_va_N3), ('test', x_te_N3)]:\n",
    "    print(\"Loaded %6s : shape %s\" % (label, x.shape))"
   ]
  },
  {
   "cell_type": "code",
   "execution_count": 14,
   "metadata": {},
   "outputs": [],
   "source": [
    "N_shape = x_va_N3.shape\n",
    "M_shape = x_tr_M3.shape\n",
    "\n",
    "N = N_shape[0]\n",
    "M = M_shape[0]"
   ]
  },
  {
   "cell_type": "markdown",
   "metadata": {},
   "source": [
    "**TODO** : Load outcomes **y** arrays"
   ]
  },
  {
   "cell_type": "code",
   "execution_count": 15,
   "metadata": {},
   "outputs": [],
   "source": [
    "# Load outcomes y arrays\n",
    "y_tr_M = np.loadtxt(os.path.join(DATA_DIR, 'y_train.csv'), delimiter=',', skiprows=1)\n",
    "y_va_N  = np.loadtxt(os.path.join(DATA_DIR,'y_valid.csv'), delimiter=',', skiprows=1)\n",
    "y_te_N = np.loadtxt(os.path.join(DATA_DIR, 'y_test.csv'), delimiter=',', skiprows=1)"
   ]
  },
  {
   "cell_type": "code",
   "execution_count": 16,
   "metadata": {},
   "outputs": [],
   "source": [
    "# Load 2 feature version of x arrays\n",
    "x_tr_M2 = x_tr_M3[:, :2].copy()\n",
    "x_va_N2 = x_va_N3[:, :2].copy()\n",
    "x_te_N2 = x_te_N3[:, :2].copy()"
   ]
  },
  {
   "cell_type": "markdown",
   "metadata": {},
   "source": [
    "# Problem 1:\n",
    "## Implementation Step 1A: Data Exploration"
   ]
  },
  {
   "cell_type": "markdown",
   "metadata": {},
   "source": [
    "### Table 1 \n",
    "\n",
    "Provide a table summarizing some basic properties of the provided training set, validation set, and test set:\n",
    "\n",
    "* Row 1 'total count': how many total examples are in each set?\n",
    "* Row 2 'positive label count': how many examples have a positive label (means cancer)?\n",
    "* Row 3 'fraction positive' : what fraction (between 0 and 1) of the examples have cancer?\n",
    "\n",
    "Your result should be 3 by 3 containing 'total count', 'positive label count' and 'fraction positive' of training, valid and test sets. An example of the output looks like this:\n",
    "\n",
    "|                               | train  |valid    |test|\n",
    "|:-|-:|-:|-:|\n",
    "|num. total examples            |567.000  |123.000  |123.000\n",
    "|num. positive examples         |56.000   |23.000   |23.000\n",
    "|fraction of positive examples  |0.123    |0.123    |0.123\n",
    "\n",
    "All results should **keep 3 digits**. We set a pandas display option to ensure that below."
   ]
  },
  {
   "cell_type": "markdown",
   "metadata": {},
   "source": [
    "**TODO**: make a pandas dataframe with the correct data properties"
   ]
  },
  {
   "cell_type": "code",
   "execution_count": 47,
   "metadata": {},
   "outputs": [],
   "source": [
    "table1_df = pd.DataFrame(np.random.randn(3, 3)) \n",
    "table1_df.index = ['num. total examples', 'num. positive examples', 'fraction of positive examples']\n",
    "table1_df.columns = ['train', 'valid', 'test']\n",
    "# Train set\n",
    "tr_num_total = np.size(y_tr_M)\n",
    "tr_num_positive = np.count_nonzero(y_tr_M == 1)\n",
    "tr_frac_positive = tr_num_positive / tr_num_total\n",
    "# train_data = [tr_num_total, tr_num_positive, tr_frac_positive]\n",
    "# print(tr_num_total, tr_num_positive, tr_frac_positive)\n",
    "\n",
    "# Validation set\n",
    "va_num_total = np.size(y_va_N)\n",
    "va_num_positive = np.count_nonzero(y_va_N == 1)\n",
    "va_frac_positive = va_num_positive / va_num_total\n",
    "# validation_data = [va_num_total, va_num_positive, va_frac_positive]\n",
    "\n",
    "# Test set\n",
    "te_num_total = np.size(y_te_N)\n",
    "te_num_positive = np.count_nonzero(y_te_N == 1)\n",
    "te_frac_positive = te_num_positive / te_num_total\n",
    "# test_data = [te_num_total, te_num_positive, te_frac_positive]\n",
    "\n",
    "col1 = [tr_num_total, va_num_total,te_num_total]\n",
    "col2 = [tr_num_positive, va_num_positive, te_num_positive]\n",
    "col3 = [tr_frac_positive, va_frac_positive, te_frac_positive]\n",
    "\n",
    "# Add data to the DataFrame\n",
    "table1_df.loc['num. total examples'] = col1\n",
    "table1_df.loc['num. positive examples'] = col2\n",
    "table1_df.loc['fraction of positive examples'] = col3\n"
   ]
  },
  {
   "cell_type": "code",
   "execution_count": 48,
   "metadata": {},
   "outputs": [
    {
     "name": "stdout",
     "output_type": "stream",
     "text": [
      "                                 train    valid     test\n",
      "num. total examples            390.000  180.000  180.000\n",
      "num. positive examples          55.000   25.000   25.000\n",
      "fraction of positive examples    0.141    0.139    0.139\n"
     ]
    }
   ],
   "source": [
    "pd.set_option('display.precision', 3)\n",
    "print(table1_df)"
   ]
  },
  {
   "cell_type": "markdown",
   "metadata": {},
   "source": [
    "##  Implementation Step 1B: The predict-0-always baseline"
   ]
  },
  {
   "cell_type": "markdown",
   "metadata": {},
   "source": [
    "**TODO**: predict zero for all test data points"
   ]
  },
  {
   "cell_type": "code",
   "execution_count": 19,
   "metadata": {},
   "outputs": [
    {
     "name": "stdout",
     "output_type": "stream",
     "text": [
      "[0. 0. 0. 0. 0. 0. 0. 0. 0. 0. 0. 0. 0. 0. 0. 0. 0. 0. 0. 0. 0. 0. 0. 0.\n",
      " 0. 0. 0. 0. 0. 0. 0. 0. 0. 0. 0. 0. 0. 0. 0. 0. 0. 0. 0. 0. 0. 0. 0. 0.\n",
      " 0. 0. 0. 0. 0. 0. 0. 0. 0. 0. 0. 0. 0. 0. 0. 0. 0. 0. 0. 0. 0. 0. 0. 0.\n",
      " 0. 0. 0. 0. 0. 0. 0. 0. 0. 0. 0. 0. 0. 0. 0. 0. 0. 0. 0. 0. 0. 0. 0. 0.\n",
      " 0. 0. 0. 0. 0. 0. 0. 0. 0. 0. 0. 0. 0. 0. 0. 0. 0. 0. 0. 0. 0. 0. 0. 0.\n",
      " 0. 0. 0. 0. 0. 0. 0. 0. 0. 0. 0. 0. 0. 0. 0. 0. 0. 0. 0. 0. 0. 0. 0. 0.\n",
      " 0. 0. 0. 0. 0. 0. 0. 0. 0. 0. 0. 0. 0. 0. 0. 0. 0. 0. 0. 0. 0. 0. 0. 0.\n",
      " 0. 0. 0. 0. 0. 0. 0. 0. 0. 0. 0. 0.]\n"
     ]
    }
   ],
   "source": [
    "baseline_yhat_te_N = np.zeros(N)\n",
    "print(baseline_yhat_te_N)"
   ]
  },
  {
   "cell_type": "code",
   "execution_count": 20,
   "metadata": {},
   "outputs": [
    {
     "name": "stdout",
     "output_type": "stream",
     "text": [
      "[0. 0. 0. 0. 0. 0. 0. 0. 0. 0. 0. 0. 0. 1. 0. 1. 0. 0. 0. 0. 0. 0. 0. 0.\n",
      " 0. 0. 0. 0. 0. 1. 0. 0. 1. 0. 0. 0. 0. 0. 0. 0. 1. 0. 1. 0. 0. 0. 1. 0.\n",
      " 0. 0. 0. 0. 0. 1. 0. 1. 0. 0. 0. 0. 0. 0. 0. 0. 1. 0. 1. 0. 1. 0. 1. 0.\n",
      " 0. 0. 0. 0. 0. 0. 0. 0. 0. 0. 0. 1. 0. 0. 0. 0. 0. 0. 0. 0. 0. 0. 0. 0.\n",
      " 0. 0. 0. 0. 0. 0. 0. 0. 0. 0. 1. 0. 1. 0. 0. 0. 0. 0. 0. 0. 0. 0. 0. 0.\n",
      " 0. 1. 0. 0. 0. 0. 0. 0. 0. 0. 0. 1. 0. 0. 1. 0. 0. 0. 0. 0. 1. 0. 0. 0.\n",
      " 0. 1. 0. 0. 0. 0. 0. 0. 1. 0. 0. 0. 0. 0. 1. 0. 0. 0. 0. 0. 0. 0. 0. 0.\n",
      " 0. 0. 1. 1. 0. 0. 0. 0. 0. 0. 0. 0.]\n"
     ]
    }
   ],
   "source": [
    "print(y_te_N)"
   ]
  },
  {
   "cell_type": "code",
   "execution_count": 21,
   "metadata": {},
   "outputs": [
    {
     "name": "stdout",
     "output_type": "stream",
     "text": [
      "Predicted    0  1\n",
      "True             \n",
      "0          155  0\n",
      "1           25  0\n"
     ]
    }
   ],
   "source": [
    "print(calc_confusion_matrix_for_probas_and_threshold(y_te_N, baseline_yhat_te_N, 0.5))"
   ]
  },
  {
   "cell_type": "markdown",
   "metadata": {},
   "source": [
    "**TODO** Use the printed information from the previous code cell to calculate the accuracy of baseline. \n",
    "\n",
    "Keep 3 digits in your PDF report for short Answer 1a."
   ]
  },
  {
   "cell_type": "code",
   "execution_count": 22,
   "metadata": {},
   "outputs": [
    {
     "name": "stdout",
     "output_type": "stream",
     "text": [
      "Baseline has accuracy:  0.8611111111111112\n"
     ]
    }
   ],
   "source": [
    "baseline_acc = 155 / 180 \n",
    "print(\"Baseline has accuracy: \", baseline_acc)"
   ]
  },
  {
   "cell_type": "markdown",
   "metadata": {},
   "source": [
    "#### Short Answer 1a in Report\n",
    "\n",
    "*See instructions on website*"
   ]
  },
  {
   "cell_type": "code",
   "execution_count": null,
   "metadata": {},
   "outputs": [],
   "source": []
  },
  {
   "cell_type": "markdown",
   "metadata": {},
   "source": [
    "## Implementation Step 1C : Logistic Regression with F=2 dataset"
   ]
  },
  {
   "cell_type": "markdown",
   "metadata": {},
   "source": [
    "**TODO**: Complete each line marked TODO fixme in the codeblock below"
   ]
  },
  {
   "cell_type": "code",
   "execution_count": 45,
   "metadata": {},
   "outputs": [
    {
     "name": "stdout",
     "output_type": "stream",
     "text": [
      "[[63.78864  0.     ]\n",
      " [60.21136  0.     ]\n",
      " [70.18679  1.     ]\n",
      " [64.85663  1.     ]\n",
      " [68.6578   0.     ]\n",
      " [71.34671  0.     ]\n",
      " [74.77879  0.     ]\n",
      " [60.76143  0.     ]\n",
      " [62.87925  0.     ]\n",
      " [69.83581  1.     ]\n",
      " [58.65945  0.     ]\n",
      " [65.73421  0.     ]\n",
      " [72.44105  0.     ]\n",
      " [62.32544  0.     ]\n",
      " [64.59198  0.     ]\n",
      " [58.01468  1.     ]\n",
      " [61.01774  0.     ]\n",
      " [62.45436  0.     ]\n",
      " [65.7565   0.     ]\n",
      " [65.81664  1.     ]\n",
      " [63.54927  1.     ]\n",
      " [67.13424  1.     ]\n",
      " [63.36813  0.     ]\n",
      " [67.97187  0.     ]\n",
      " [67.18363  0.     ]\n",
      " [64.24229  0.     ]\n",
      " [63.94371  0.     ]\n",
      " [69.81638  0.     ]\n",
      " [65.50663  0.     ]\n",
      " [62.34288  1.     ]\n",
      " [64.58864  0.     ]\n",
      " [54.34343  0.     ]\n",
      " [76.31532  0.     ]\n",
      " [70.89838  0.     ]\n",
      " [66.54893  1.     ]\n",
      " [67.78315  0.     ]\n",
      " [76.53217  0.     ]\n",
      " [59.40677  0.     ]\n",
      " [74.09642  0.     ]\n",
      " [58.00622  0.     ]\n",
      " [65.99633  0.     ]\n",
      " [68.49203  0.     ]\n",
      " [59.8314   0.     ]\n",
      " [67.96156  0.     ]\n",
      " [70.39814  0.     ]\n",
      " [67.99323  0.     ]\n",
      " [66.97784  0.     ]\n",
      " [65.22306  0.     ]\n",
      " [64.05421  0.     ]\n",
      " [75.53773  0.     ]\n",
      " [58.62805  1.     ]\n",
      " [68.316    1.     ]\n",
      " [70.09425  0.     ]\n",
      " [61.86872  0.     ]\n",
      " [63.57636  1.     ]\n",
      " [57.40099  0.     ]\n",
      " [69.75618  0.     ]\n",
      " [66.46     0.     ]\n",
      " [63.07719  0.     ]\n",
      " [61.36214  0.     ]\n",
      " [54.02065  0.     ]\n",
      " [71.36636  0.     ]\n",
      " [67.21446  0.     ]\n",
      " [59.90642  0.     ]\n",
      " [72.66306  0.     ]\n",
      " [66.35931  0.     ]\n",
      " [67.05412  0.     ]\n",
      " [61.98321  0.     ]\n",
      " [62.9514   1.     ]\n",
      " [64.32439  0.     ]\n",
      " [61.20963  0.     ]\n",
      " [70.28268  0.     ]\n",
      " [63.09303  0.     ]\n",
      " [66.16218  0.     ]\n",
      " [54.60774  0.     ]\n",
      " [65.87422  1.     ]\n",
      " [59.57447  0.     ]\n",
      " [65.18739  0.     ]\n",
      " [70.12766  1.     ]\n",
      " [63.00902  0.     ]\n",
      " [63.69997  0.     ]\n",
      " [68.29043  0.     ]\n",
      " [60.44851  1.     ]\n",
      " [63.37096  1.     ]\n",
      " [68.61874  1.     ]\n",
      " [63.60289  0.     ]\n",
      " [62.10342  0.     ]\n",
      " [68.16631  0.     ]\n",
      " [63.92532  0.     ]\n",
      " [67.7188   1.     ]\n",
      " [66.06847  0.     ]\n",
      " [61.40981  0.     ]\n",
      " [61.69149  0.     ]\n",
      " [64.83163  0.     ]\n",
      " [60.76701  1.     ]\n",
      " [69.73871  1.     ]\n",
      " [65.49047  0.     ]\n",
      " [64.94543  0.     ]\n",
      " [64.36356  0.     ]\n",
      " [59.46868  0.     ]\n",
      " [54.69748  0.     ]\n",
      " [66.83841  0.     ]\n",
      " [68.26522  0.     ]\n",
      " [71.69258  1.     ]\n",
      " [57.65518  0.     ]\n",
      " [56.9712   0.     ]\n",
      " [65.61407  0.     ]\n",
      " [62.48288  0.     ]\n",
      " [64.82024  0.     ]\n",
      " [66.96828  0.     ]\n",
      " [61.54588  0.     ]\n",
      " [65.12152  0.     ]\n",
      " [68.84058  0.     ]\n",
      " [68.45389  0.     ]\n",
      " [62.79475  0.     ]\n",
      " [63.79015  0.     ]\n",
      " [60.45181  0.     ]\n",
      " [67.07994  0.     ]\n",
      " [57.15098  1.     ]\n",
      " [65.18436  0.     ]\n",
      " [66.24428  0.     ]\n",
      " [69.25652  0.     ]\n",
      " [45.30359  0.     ]\n",
      " [63.19863  0.     ]\n",
      " [69.79289  0.     ]\n",
      " [71.92839  0.     ]\n",
      " [61.03221  1.     ]\n",
      " [73.00558  0.     ]\n",
      " [60.60762  0.     ]\n",
      " [64.17079  0.     ]\n",
      " [63.67994  0.     ]\n",
      " [58.30753  1.     ]\n",
      " [56.81948  0.     ]\n",
      " [51.5556   0.     ]\n",
      " [65.3263   0.     ]\n",
      " [62.71746  0.     ]\n",
      " [71.32385  1.     ]\n",
      " [73.46328  0.     ]\n",
      " [67.67131  0.     ]\n",
      " [64.42557  0.     ]\n",
      " [58.61325  0.     ]\n",
      " [70.23822  0.     ]\n",
      " [65.02428  0.     ]\n",
      " [68.28202  0.     ]\n",
      " [66.37389  0.     ]\n",
      " [66.44272  0.     ]\n",
      " [65.24432  0.     ]\n",
      " [63.2154   0.     ]\n",
      " [67.17767  0.     ]\n",
      " [68.39446  0.     ]\n",
      " [60.47071  1.     ]\n",
      " [70.26044  0.     ]\n",
      " [58.27445  1.     ]\n",
      " [61.16592  0.     ]\n",
      " [60.98792  0.     ]\n",
      " [67.07034  0.     ]\n",
      " [70.55273  0.     ]\n",
      " [66.79304  0.     ]\n",
      " [65.02237  0.     ]\n",
      " [73.49937  1.     ]\n",
      " [59.62656  0.     ]\n",
      " [64.11355  0.     ]\n",
      " [69.96291  0.     ]\n",
      " [69.38736  0.     ]\n",
      " [68.6612   0.     ]\n",
      " [53.73625  0.     ]\n",
      " [60.12118  0.     ]\n",
      " [62.5235   0.     ]\n",
      " [63.71798  0.     ]\n",
      " [60.2058   0.     ]\n",
      " [71.43584  0.     ]\n",
      " [61.96416  0.     ]\n",
      " [70.28848  0.     ]\n",
      " [69.6695   0.     ]\n",
      " [62.82744  0.     ]\n",
      " [68.368    0.     ]\n",
      " [64.71027  0.     ]\n",
      " [67.03373  0.     ]\n",
      " [63.96486  0.     ]\n",
      " [61.43227  0.     ]\n",
      " [69.51936  0.     ]\n",
      " [65.49502  1.     ]\n",
      " [74.57713  0.     ]\n",
      " [67.63158  0.     ]\n",
      " [62.2402   0.     ]\n",
      " [62.99156  0.     ]\n",
      " [68.20441  0.     ]\n",
      " [64.11584  0.     ]\n",
      " [72.44943  0.     ]\n",
      " [64.03445  0.     ]\n",
      " [63.89442  0.     ]\n",
      " [62.93747  0.     ]\n",
      " [65.15671  0.     ]\n",
      " [66.55087  1.     ]\n",
      " [64.25269  1.     ]\n",
      " [68.69183  0.     ]\n",
      " [59.85032  0.     ]\n",
      " [59.29411  0.     ]\n",
      " [63.19449  0.     ]\n",
      " [65.73213  0.     ]\n",
      " [67.59895  0.     ]\n",
      " [64.22717  0.     ]\n",
      " [64.08953  0.     ]\n",
      " [71.25349  0.     ]\n",
      " [67.57849  1.     ]\n",
      " [63.60241  1.     ]\n",
      " [69.68842  0.     ]\n",
      " [61.47312  0.     ]\n",
      " [66.57789  0.     ]\n",
      " [63.43912  1.     ]\n",
      " [69.72916  1.     ]\n",
      " [60.05052  1.     ]\n",
      " [65.7537   1.     ]\n",
      " [66.31138  0.     ]\n",
      " [59.39383  0.     ]\n",
      " [71.01147  0.     ]\n",
      " [64.57951  0.     ]\n",
      " [55.01429  0.     ]\n",
      " [70.61745  0.     ]\n",
      " [62.93702  0.     ]\n",
      " [69.01857  1.     ]\n",
      " [64.25861  1.     ]\n",
      " [76.00014  0.     ]\n",
      " [67.78082  0.     ]\n",
      " [61.29579  0.     ]\n",
      " [65.08706  0.     ]\n",
      " [66.10999  0.     ]\n",
      " [50.48239  0.     ]\n",
      " [63.49087  0.     ]\n",
      " [61.86514  0.     ]\n",
      " [65.47884  0.     ]\n",
      " [57.17504  0.     ]\n",
      " [66.65852  0.     ]\n",
      " [59.92947  0.     ]\n",
      " [72.27111  0.     ]\n",
      " [67.03914  1.     ]\n",
      " [68.83257  0.     ]\n",
      " [70.29654  0.     ]\n",
      " [59.73852  0.     ]\n",
      " [67.01884  1.     ]\n",
      " [60.00595  0.     ]\n",
      " [64.27274  0.     ]\n",
      " [67.3124   0.     ]\n",
      " [54.45557  0.     ]\n",
      " [63.62803  0.     ]\n",
      " [66.09628  0.     ]\n",
      " [65.32578  0.     ]\n",
      " [68.53159  0.     ]\n",
      " [52.96059  0.     ]\n",
      " [65.08852  0.     ]\n",
      " [60.61732  0.     ]\n",
      " [62.15931  0.     ]\n",
      " [72.4721   0.     ]\n",
      " [73.10541  1.     ]\n",
      " [69.5911   1.     ]\n",
      " [73.90347  0.     ]\n",
      " [60.11263  0.     ]\n",
      " [62.93098  0.     ]\n",
      " [59.18258  0.     ]\n",
      " [61.79989  0.     ]\n",
      " [60.70201  0.     ]\n",
      " [65.76543  0.     ]\n",
      " [64.66387  0.     ]\n",
      " [65.03281  0.     ]\n",
      " [67.39896  0.     ]\n",
      " [65.34932  0.     ]\n",
      " [55.69534  0.     ]\n",
      " [59.11484  1.     ]\n",
      " [75.31924  0.     ]\n",
      " [69.24045  0.     ]\n",
      " [61.82353  0.     ]\n",
      " [63.35165  0.     ]\n",
      " [67.02776  0.     ]\n",
      " [60.58875  0.     ]\n",
      " [61.75168  1.     ]\n",
      " [65.15668  0.     ]\n",
      " [66.30898  0.     ]\n",
      " [66.34698  0.     ]\n",
      " [69.89828  1.     ]\n",
      " [63.03135  0.     ]\n",
      " [65.24892  0.     ]\n",
      " [68.40578  0.     ]\n",
      " [67.85812  0.     ]\n",
      " [61.17285  1.     ]\n",
      " [74.07236  1.     ]\n",
      " [65.99361  0.     ]\n",
      " [65.79408  0.     ]\n",
      " [64.3119   1.     ]\n",
      " [65.44019  0.     ]\n",
      " [64.94736  0.     ]\n",
      " [56.75846  0.     ]\n",
      " [60.70569  0.     ]\n",
      " [66.60336  0.     ]\n",
      " [56.11819  0.     ]\n",
      " [69.35155  0.     ]\n",
      " [64.75623  0.     ]\n",
      " [65.23592  0.     ]\n",
      " [55.94527  0.     ]\n",
      " [63.60876  0.     ]\n",
      " [67.39     1.     ]\n",
      " [56.38057  0.     ]\n",
      " [67.70454  0.     ]\n",
      " [70.11369  0.     ]\n",
      " [70.26424  0.     ]\n",
      " [68.14637  0.     ]\n",
      " [62.92625  0.     ]\n",
      " [64.73486  1.     ]\n",
      " [58.09938  0.     ]\n",
      " [68.8804   0.     ]\n",
      " [64.05187  0.     ]\n",
      " [65.54733  0.     ]\n",
      " [79.76653  1.     ]\n",
      " [65.7288   0.     ]\n",
      " [61.60319  0.     ]\n",
      " [66.41716  0.     ]\n",
      " [70.01092  1.     ]\n",
      " [65.45943  0.     ]\n",
      " [68.62294  0.     ]\n",
      " [66.46255  0.     ]\n",
      " [68.42844  0.     ]\n",
      " [56.44126  0.     ]\n",
      " [61.01159  0.     ]\n",
      " [64.6208   0.     ]\n",
      " [61.81751  0.     ]\n",
      " [66.66376  0.     ]\n",
      " [61.65575  0.     ]\n",
      " [70.90057  0.     ]\n",
      " [66.29403  0.     ]\n",
      " [63.31944  0.     ]\n",
      " [58.38802  0.     ]\n",
      " [62.60334  0.     ]\n",
      " [57.95905  0.     ]\n",
      " [64.01502  1.     ]\n",
      " [68.7723   0.     ]\n",
      " [65.56735  0.     ]\n",
      " [72.00404  0.     ]\n",
      " [70.71751  0.     ]\n",
      " [68.75684  0.     ]\n",
      " [65.91357  0.     ]\n",
      " [57.83153  0.     ]\n",
      " [69.32669  1.     ]\n",
      " [65.91871  1.     ]\n",
      " [68.7872   0.     ]\n",
      " [63.24149  0.     ]\n",
      " [68.75526  1.     ]\n",
      " [63.3393   0.     ]\n",
      " [75.56043  1.     ]\n",
      " [61.56926  0.     ]\n",
      " [58.02626  0.     ]\n",
      " [60.44228  0.     ]\n",
      " [62.67277  0.     ]\n",
      " [58.19759  0.     ]\n",
      " [74.29142  0.     ]\n",
      " [58.73467  0.     ]\n",
      " [66.78515  1.     ]\n",
      " [75.38474  0.     ]\n",
      " [61.66132  0.     ]\n",
      " [71.03853  0.     ]\n",
      " [62.22564  0.     ]\n",
      " [60.88992  0.     ]\n",
      " [72.578    0.     ]\n",
      " [57.00854  0.     ]\n",
      " [58.98153  0.     ]\n",
      " [66.55123  0.     ]\n",
      " [62.23393  1.     ]\n",
      " [65.36638  0.     ]\n",
      " [65.77481  0.     ]\n",
      " [69.83913  0.     ]\n",
      " [70.89852  0.     ]\n",
      " [60.76242  1.     ]\n",
      " [63.76203  0.     ]\n",
      " [68.88636  0.     ]\n",
      " [65.73548  0.     ]\n",
      " [58.43612  0.     ]\n",
      " [67.50124  0.     ]\n",
      " [74.08248  0.     ]\n",
      " [61.73415  0.     ]\n",
      " [60.30972  0.     ]\n",
      " [61.32673  0.     ]\n",
      " [61.09392  1.     ]\n",
      " [58.0386   0.     ]\n",
      " [62.70977  0.     ]\n",
      " [67.02632  0.     ]\n",
      " [69.00488  0.     ]\n",
      " [62.49572  1.     ]\n",
      " [72.49593  0.     ]\n",
      " [58.66271  0.     ]\n",
      " [62.63218  0.     ]\n",
      " [69.77619  0.     ]\n",
      " [60.47538  0.     ]]\n"
     ]
    }
   ],
   "source": [
    "C_grid = np.logspace(-9, 6, 31)\n",
    "\n",
    "# We will fit a separate logistic regression for each C value in the C_grid\n",
    "# And store that classifier's performance metrics (lower is better)\n",
    "# So we can compare and select the best C in the future steps.\n",
    "\n",
    "model_F2_list = list()\n",
    "\n",
    "# Allocate lists for storing BCE metrics\n",
    "tr_bce_list = list()\n",
    "va_bce_list = list()\n",
    "te_bce_list = list()\n",
    "\n",
    "# Allocate lists for storing ERROR RATE metrics\n",
    "tr_err_list = list()\n",
    "va_err_list = list()\n",
    "te_err_list = list()\n",
    "\n",
    "# Remember, we justified BCE for training our classifier by saying\n",
    "# it provides an *upper bound* on the error rate.\n",
    "\n",
    "# Loop over C values, fit models, record metrics\n",
    "for C in C_grid:\n",
    "    # Part a: Initialize a LogisticRegression classifier with desired C value\n",
    "    # Part b: train the model with the 2-feature dataset\n",
    "    lr_F2 = sklearn.linear_model.LogisticRegression(C=C, solver='lbfgs') # TODO fixme\n",
    "    lr_F2.fit(x_tr_M2[:, :2], y_tr_M) # TODO fixme\n",
    "    \n",
    "    \n",
    "    model_F2_list.append(lr_F2)\n",
    "    \n",
    "    yproba1_tr_M = lr_F2.predict_proba(x_tr_M2)[:,1] # The probability of predicting class 1 on the training set\n",
    "    yproba1_va_N = lr_F2.predict_proba(x_va_N2)[:,1] # The probability of predicting class 1 on the validation set\n",
    "    \n",
    "    # Compute error rate aka zero-one loss\n",
    "    my_tr_err = sklearn.metrics.zero_one_loss(y_tr_M, yproba1_tr_M >= 0.5)\n",
    "    my_va_err = sklearn.metrics.zero_one_loss(y_va_N, yproba1_va_N >= 0.5)\n",
    "    tr_err_list.append(my_tr_err)\n",
    "    va_err_list.append(my_va_err)\n",
    "    \n",
    "    # Part c: calculate the binary cross entropy (bce) on the training set\n",
    "    # Part d: calculate the binary cross entropy (bce) on the validation set\n",
    "    my_tr_bce = calc_mean_binary_cross_entropy_from_probas(y_tr_M, yproba1_tr_M) \n",
    "    my_va_bce = calc_mean_binary_cross_entropy_from_probas(y_va_N, yproba1_va_N) \n",
    "    # Save bce for future selection on Models.\n",
    "    tr_bce_list.append(my_tr_bce) \n",
    "    va_bce_list.append(my_va_bce) \n",
    "    \n",
    "print(x_tr_M2[:, :2])"
   ]
  },
  {
   "cell_type": "code",
   "execution_count": 24,
   "metadata": {},
   "outputs": [
    {
     "data": {
      "image/png": "[encoded data removed]",
      "text/plain": [
       "<Figure size 800x550 with 1 Axes>"
      ]
     },
     "metadata": {},
     "output_type": "display_data"
    }
   ],
   "source": [
    "plt.plot(np.log10(C_grid), tr_bce_list, 'bs-', label='train BCE')\n",
    "plt.plot(np.log10(C_grid), va_bce_list, 'rs-', label='valid BCE')\n",
    "\n",
    "plt.plot(np.log10(C_grid), tr_err_list, 'b:', label='train err')\n",
    "plt.plot(np.log10(C_grid), va_err_list, 'r:', label='valid err')\n",
    "\n",
    "plt.ylabel('error')\n",
    "plt.xlabel(\"$\\log_{10} C$\");\n",
    "plt.legend(bbox_to_anchor=(1.5, 0.5)) # make legend outside plot\n",
    "plt.ylim([0, 0.7]);"
   ]
  },
  {
   "cell_type": "markdown",
   "metadata": {},
   "source": [
    "### Check Point:\n",
    "\n",
    "If your code is correct, you should produce exactly the same figure when you run the cell above as:\n",
    "\n",
    "**\"Checkpoint1C.jpg\"** in the same folder as your starter code.\n",
    "![image.png](Checkpoint1C.JPG)"
   ]
  },
  {
   "cell_type": "code",
   "execution_count": 25,
   "metadata": {},
   "outputs": [
    {
     "name": "stdout",
     "output_type": "stream",
     "text": [
      "Searched over these C values:\n",
      "[1.00000000e-09 3.16227766e-09 1.00000000e-08 3.16227766e-08\n",
      " 1.00000000e-07 3.16227766e-07 1.00000000e-06 3.16227766e-06\n",
      " 1.00000000e-05 3.16227766e-05 1.00000000e-04 3.16227766e-04\n",
      " 1.00000000e-03 3.16227766e-03 1.00000000e-02 3.16227766e-02\n",
      " 1.00000000e-01 3.16227766e-01 1.00000000e+00 3.16227766e+00\n",
      " 1.00000000e+01 3.16227766e+01 1.00000000e+02 3.16227766e+02\n",
      " 1.00000000e+03 3.16227766e+03 1.00000000e+04 3.16227766e+04\n",
      " 1.00000000e+05 3.16227766e+05 1.00000000e+06]\n",
      "Recorded these BCE loss values on val set\n",
      "[0.5813486462944975, 0.5813483116634849, 0.5813472417933673, 0.5813438668569002, 0.5813332021657565, 0.5812994793055624, 0.5811930178568904, 0.5808580497615957, 0.5798155616673353, 0.5766778884024558, 0.5681388958678034, 0.5504170795820452, 0.5300315902569901, 0.5219479609614885, 0.5234818733958239, 0.524841598520725, 0.5232951289242508, 0.5204234457386401, 0.5184462822989544, 0.5176008412722334, 0.5173046331390779, 0.517207715905226, 0.5171767385377396, 0.5171669070676317, 0.5171637899708028, 0.5171628047707707, 0.5171624941441076, 0.51716239601589, 0.5171623649942904, 0.5171623551852886, 0.5171623520834977]\n"
     ]
    }
   ],
   "source": [
    "print(\"Searched over these C values:\")\n",
    "print(C_grid)\n",
    "\n",
    "print(\"Recorded these BCE loss values on val set\")\n",
    "print(va_bce_list)"
   ]
  },
  {
   "cell_type": "markdown",
   "metadata": {},
   "source": [
    "**TODO** Find the best C with the samllest cross entropy loss on the validation set."
   ]
  },
  {
   "cell_type": "code",
   "execution_count": 26,
   "metadata": {},
   "outputs": [
    {
     "name": "stdout",
     "output_type": "stream",
     "text": [
      "Best C value for F2 model:\n",
      "1000000.0\n"
     ]
    }
   ],
   "source": [
    "# Find the best C with the smallest cross entropy loss on the validation set\n",
    "min_C_index = np.argmin(va_bce_list)\n",
    "best_C__lrF2 = C_grid[min_C_index]\n",
    "\n",
    "print(\"Best C value for F2 model:\")\n",
    "print(best_C__lrF2)"
   ]
  },
  {
   "cell_type": "markdown",
   "metadata": {},
   "source": [
    "**TODO** Load the model that was rated 'best'"
   ]
  },
  {
   "cell_type": "code",
   "execution_count": 27,
   "metadata": {},
   "outputs": [
    {
     "name": "stdout",
     "output_type": "stream",
     "text": [
      "Best model has coefficient values:\n",
      "[[0.23884106 0.43491962]]\n"
     ]
    }
   ],
   "source": [
    "best_lrF2 = model_F2_list[min_C_index] \n",
    "\n",
    "print(\"Best model has coefficient values:\")\n",
    "print(best_lrF2.coef_)"
   ]
  },
  {
   "cell_type": "code",
   "execution_count": 28,
   "metadata": {},
   "outputs": [],
   "source": [
    "# Output the prediction of your best model for 2-feature data on the training, valid, and test set. \n",
    "# Return the posibility of predicting true\n",
    "# We'll use them for the ROC curve\n",
    "bestlrF2_yproba1_tr_M = best_lrF2.predict_proba(x_tr_M2)[:,1]\n",
    "bestlrF2_yproba1_va_N = best_lrF2.predict_proba(x_va_N2)[:,1]\n",
    "bestlrF2_yproba1_te_N = best_lrF2.predict_proba(x_te_N2)[:,1]"
   ]
  },
  {
   "cell_type": "markdown",
   "metadata": {},
   "source": [
    "## Implementation Step 1D : Logistic Regression with F=3 dataset\n",
    "**TODO**: \n",
    "* Repeat Step 1C for 3-feature Dataset to find the best C. "
   ]
  },
  {
   "cell_type": "code",
   "execution_count": 29,
   "metadata": {},
   "outputs": [
    {
     "data": {
      "image/png": "[encoded data removed]",
      "text/plain": [
       "<Figure size 800x550 with 1 Axes>"
      ]
     },
     "metadata": {},
     "output_type": "display_data"
    }
   ],
   "source": [
    "C_grid = np.logspace(-9, 6, 31)\n",
    "\n",
    "# We will fit a separate logistic regression for each C value in the C_grid\n",
    "# And store that classifier's performance metrics (lower is better)\n",
    "# So we can compare and select the best C in the future steps.\n",
    "\n",
    "model_F3_list = list()\n",
    "\n",
    "# Allocate lists for storing BCE metrics\n",
    "tr_bce_list_F3 = list()\n",
    "va_bce_list_F3 = list()\n",
    "te_bce_list_F3 = list()\n",
    "\n",
    "# Allocate lists for storing ERROR RATE metrics\n",
    "tr_err_list_F3 = list()\n",
    "va_err_list_F3 = list()\n",
    "te_err_list_F3 = list()\n",
    "\n",
    "# Remember, we justified BCE for training our classifier by saying\n",
    "# it provides an *upper bound* on the error rate.\n",
    "\n",
    "# Loop over C values, fit models, record metrics\n",
    "for C in C_grid:\n",
    "    # Part a: Initialize a LogisticRegression classifier with desired C value\n",
    "    # Part b: train the model with the 3-feature dataset\n",
    "    lr_F3 = sklearn.linear_model.LogisticRegression(C=C, solver='lbfgs') # TODO fixme\n",
    "    lr_F3.fit(x_tr_M3, y_tr_M) \n",
    "    \n",
    "    model_F3_list.append(lr_F3)\n",
    "    \n",
    "    yproba1_tr_M = lr_F3.predict_proba(x_tr_M3)[:,1] # The probability of predicting class 1 on the training set\n",
    "    yproba1_va_N = lr_F3.predict_proba(x_va_N3)[:,1] # The probability of predicting class 1 on the validation set\n",
    "    \n",
    "    # Compute error rate aka zero-one loss\n",
    "    my_tr_err = sklearn.metrics.zero_one_loss(y_tr_M, yproba1_tr_M >= 0.5)\n",
    "    my_va_err = sklearn.metrics.zero_one_loss(y_va_N, yproba1_va_N >= 0.5)\n",
    "    tr_err_list_F3.append(my_tr_err)\n",
    "    va_err_list_F3.append(my_va_err)\n",
    "    \n",
    "    # Part c: calculate the binary cross entropy (bce) on the training set\n",
    "    # Part d: calculate the binary cross entropy (bce) on the validation set\n",
    "    my_tr_bce = calc_mean_binary_cross_entropy_from_probas(y_tr_M, yproba1_tr_M) \n",
    "    my_va_bce = calc_mean_binary_cross_entropy_from_probas(y_va_N, yproba1_va_N) \n",
    "    # Save bce for future selection on Models.\n",
    "    tr_bce_list_F3.append(my_tr_bce) \n",
    "    va_bce_list_F3.append(my_va_bce) \n",
    "    \n",
    "plt.plot(np.log10(C_grid), tr_bce_list_F3, 'bs-', label='train BCE')\n",
    "plt.plot(np.log10(C_grid), va_bce_list_F3, 'rs-', label='valid BCE')\n",
    "\n",
    "plt.plot(np.log10(C_grid), tr_err_list_F3, 'b:', label='train err')\n",
    "plt.plot(np.log10(C_grid), va_err_list_F3, 'r:', label='valid err')\n",
    "\n",
    "plt.ylabel('error')\n",
    "plt.xlabel(\"$\\log_{10} C$\");\n",
    "plt.legend(bbox_to_anchor=(1.5, 0.5)) # make legend outside plot\n",
    "plt.ylim([0, 0.7]);"
   ]
  },
  {
   "cell_type": "markdown",
   "metadata": {},
   "source": [
    "**TODO**:\n",
    "* Select the best C and retrieve the best model. You should name the model as \"**best_lrF3**\"."
   ]
  },
  {
   "cell_type": "code",
   "execution_count": 30,
   "metadata": {},
   "outputs": [
    {
     "name": "stdout",
     "output_type": "stream",
     "text": [
      "Best C value for F3 model:\n",
      "1000000.0\n"
     ]
    }
   ],
   "source": [
    "# Find the best C with the smallest cross entropy loss on the validation set\n",
    "min_C_index = np.argmin(va_bce_list_F3)\n",
    "best_C__lrF3 = C_grid[min_C_index]\n",
    "\n",
    "print(\"Best C value for F3 model:\")\n",
    "print(best_C__lrF3)"
   ]
  },
  {
   "cell_type": "markdown",
   "metadata": {},
   "source": [
    "**TODO**:\n",
    "* Return the posibility of predicting true on training, validation and test set."
   ]
  },
  {
   "cell_type": "code",
   "execution_count": 31,
   "metadata": {},
   "outputs": [],
   "source": [
    "# TODO: Return the posibility of predicting true on training, validation and test set.\n",
    "# Hint: follow what's done in the last code block of Step 1C.\n",
    "best_lrF3 = model_F3_list[min_C_index] \n",
    "\n",
    "bestlrF3_yproba1_tr_M = best_lrF3.predict_proba(x_tr_M3)[:,1]\n",
    "bestlrF3_yproba1_va_N = best_lrF3.predict_proba(x_va_N3)[:,1]\n",
    "bestlrF3_yproba1_te_N = best_lrF3.predict_proba(x_te_N3)[:,1]"
   ]
  },
  {
   "cell_type": "markdown",
   "metadata": {},
   "source": [
    "## Implementation Step 1E : Comparing Models using ROC Analysis\n",
    "**TODO**:\n",
    "Follow the instruction to produce the figure for your report"
   ]
  },
  {
   "cell_type": "code",
   "execution_count": 32,
   "metadata": {},
   "outputs": [
    {
     "data": {
      "image/png": "[encoded data removed]",
      "text/plain": [
       "<Figure size 500x500 with 1 Axes>"
      ]
     },
     "metadata": {},
     "output_type": "display_data"
    }
   ],
   "source": [
    "# Follow the instruction of HW2 and produce Figure 1 for your report:\n",
    "plt.subplots(nrows=1, ncols=1, figsize=(5,5));\n",
    "\n",
    "# TODO Use provided data and predictions on the Validation set\n",
    "# Produce the ROC Curve utilizing `sklearn.metrics.roc_curve' within plt defined above.\n",
    "# To start, read the official Document and examples of 'sklearn.metrics.roc_curve'. \n",
    "\n",
    "fpr_F2, tpr_F2, thresholds_F2 = sklearn.metrics.roc_curve(y_va_N, bestlrF2_yproba1_va_N)\n",
    "fpr_F3, tpr_F3, thresholds_F3 = sklearn.metrics.roc_curve(y_va_N, bestlrF3_yproba1_va_N)\n",
    "\n",
    "\n",
    "plt.plot(fpr_F2, tpr_F2, color ='b', lw=2, label='F=2', linestyle='-.');\n",
    "plt.plot(fpr_F3, tpr_F3, color ='r', lw=2, label='F=3', linestyle='-.');\n",
    "\n",
    "\n",
    "# Read HW2 instructions carefully for plot style (line type, line color, etc.)\n",
    "\n",
    "plt.title(\"ROC on Validation Set\");\n",
    "plt.xlabel('false positive rate');\n",
    "plt.ylabel('true positive rate');\n",
    "plt.legend(loc='lower right');\n",
    "B = 0.01\n",
    "plt.xlim([0 - B, 1 + B]);\n",
    "plt.ylim([0 - B, 1 + B]);"
   ]
  },
  {
   "cell_type": "markdown",
   "metadata": {},
   "source": [
    "### Figure 1 for the report: Comparing models using ROC analysis\n",
    "**TODO**:\n",
    "Show the figure above in your report"
   ]
  },
  {
   "cell_type": "markdown",
   "metadata": {},
   "source": [
    "#### Short Answer 1b in Report\n",
    "\n",
    "*See instructions on website*"
   ]
  },
  {
   "cell_type": "code",
   "execution_count": null,
   "metadata": {},
   "outputs": [],
   "source": []
  },
  {
   "cell_type": "markdown",
   "metadata": {},
   "source": [
    "## Implementation Step 1F & 1G: Selecting a decision threshold\n"
   ]
  },
  {
   "cell_type": "markdown",
   "metadata": {},
   "source": [
    "**TODO**: Follow the instructions below to produce Figure 2\n",
    "\n",
    "Each column should correspond to one of the following models:\n",
    "\n",
    "* F=3 Logistic Regression (from 1D above), using threshold 0.5\n",
    "* F=3 Logistic Regression (from 1D above), using threshold from **1F** (See **Figure2 Column2** for implementation instruction)\n",
    "* F=3 Logistic Regression (from 1D above), using threshold from **1G** (See **Figure2 Column3** for implementation instruction)\n",
    "\n",
    "Each row should report some performance of the model on the **test** set:\n",
    "* Title: **Threshold** **(with 3 digits after decimal)** + which case (i.e **default**, **PPV >= 0.98** or **TPR>=0.98**)\n",
    "* Top Row: **Confusion Matrix** on the test set. **(with Integers)**\n",
    "* Bottom Row: **TPR** and **PPV** metrics on the test set. **(with 3 digits after decimal)**\n",
    "\n",
    "We've offered an example output on each column of Figure 2, but feel free to print out all the value needed and organize them with any software (Jupyter Notebook, Excel, Latex, etc). Then, \n",
    "**combine all columns into one figure and include it in your PDF report.**\n",
    "\n",
    "An example of Figure2 looks like\n",
    "**\"figure2_sample.png\"** in the same folder as your starter code.\n",
    "![image.png](figure2_sample.png)"
   ]
  },
  {
   "cell_type": "markdown",
   "metadata": {},
   "source": []
  },
  {
   "cell_type": "markdown",
   "metadata": {},
   "source": [
    "### Figure2 Column1: Use F=3 LR model, Use default 0.5 threshold\n",
    "#### TODO:\n",
    "* Produce the confusion matrix\n",
    "* Return TPR and PPV on the test set"
   ]
  },
  {
   "cell_type": "code",
   "execution_count": 33,
   "metadata": {},
   "outputs": [
    {
     "name": "stdout",
     "output_type": "stream",
     "text": [
      "Figure2 column 1: chosen thr = 0.5000, tpr = 0.4000, ppv = 0.7692,\n"
     ]
    }
   ],
   "source": [
    "best_thr_default = 0.5\n",
    "TP = 0\n",
    "TN = 0\n",
    "FP = 0\n",
    "FN = 0\n",
    "for index, prediction in enumerate(bestlrF3_yproba1_te_N):\n",
    "    if ((y_te_N[index] == 1) and (prediction >= 0.5)):\n",
    "        TP += 1\n",
    "    elif ((y_te_N[index] == 0) and (prediction <= 0.5)):\n",
    "        TN += 1\n",
    "    elif ((y_te_N[index] == 0) and (prediction >= 0.5)):\n",
    "        FP += 1\n",
    "    elif ((y_te_N[index] == 1) and (prediction <= 0.5)):\n",
    "        FN += 1\n",
    "        \n",
    "tpr = TP / (TP + FN)\n",
    "ppv = TP / (TP + FP)\n",
    "\n",
    "print(f\"Figure2 column 1: chosen thr = {best_thr_default :.4f}, tpr = {tpr :.4f}, ppv = {ppv :.4f},\")"
   ]
  },
  {
   "cell_type": "code",
   "execution_count": 34,
   "metadata": {},
   "outputs": [
    {
     "name": "stdout",
     "output_type": "stream",
     "text": [
      "Predicted    0   1\n",
      "True              \n",
      "0          152   3\n",
      "1           15  10\n"
     ]
    }
   ],
   "source": [
    "confusion_matrix_default = calc_confusion_matrix_for_probas_and_threshold(y_te_N, bestlrF3_yproba1_te_N, best_thr_default)\n",
    "print(confusion_matrix_default)"
   ]
  },
  {
   "cell_type": "markdown",
   "metadata": {},
   "source": [
    "### Step 1F : Use F=3 LR model, Pick threshold to maximize TPR s.t. PPV >= 0.98"
   ]
  },
  {
   "cell_type": "markdown",
   "metadata": {},
   "source": [
    "**TODO**: Finish the code block to get the best threshold."
   ]
  },
  {
   "cell_type": "code",
   "execution_count": null,
   "metadata": {},
   "outputs": [],
   "source": []
  },
  {
   "cell_type": "code",
   "execution_count": 37,
   "metadata": {},
   "outputs": [
    {
     "name": "stdout",
     "output_type": "stream",
     "text": [
      "Figure2 column 2: chosen thr = 0.6311, tpr = 0.2000, ppv = 1.0000,\n"
     ]
    }
   ],
   "source": [
    "# Find threshold that makes TPR as large as possible, while satisfying PPV >= 0.98\n",
    "# Get the performance metrics across many thresholds\n",
    "thresh_grid, va_perf_grid = threshold_selection.compute_perf_metrics_across_thresholds(\n",
    "    y_va_N, bestlrF3_yproba1_va_N)\n",
    "\n",
    "# The function above computes a range of performance metrics for\n",
    "# different thresholds, by analyzing these metrics across various \n",
    "# thresholds, you can select an optimal threshold that balances\n",
    "# different aspects of model performance such as sensitivity, \n",
    "# specificity, and precision.\n",
    "\n",
    "best_thr_tpr = 0\n",
    "tpr1 = 0\n",
    "ppv1 = 0\n",
    "\n",
    "# Find the threshold that maximizes TPR while satisfying PPV>= 0.98\n",
    "for index, threshold in enumerate(thresh_grid):\n",
    "    \n",
    "    curr_tpr = va_perf_grid['tpr'][index]\n",
    "    curr_ppv = va_perf_grid['ppv'][index]\n",
    "    # Check if the current PPV is higher than 0.98\n",
    "    if curr_ppv >= 0.98: \n",
    "        # Replace the best tpr with curr tpr if higher than the previous tpr\n",
    "        if curr_tpr > tpr1:\n",
    "            best_thr_tpr = threshold\n",
    "            tpr1 = curr_tpr\n",
    "            ppv1 = curr_ppv\n",
    "            \n",
    "\n",
    "\n",
    "print(f\"Figure2 column 2: chosen thr = {best_thr_tpr :.4f}, tpr = {tpr1 :.4f}, ppv = {ppv1 :.4f},\")"
   ]
  },
  {
   "cell_type": "markdown",
   "metadata": {},
   "source": [
    "**TODO**: Using the chosen **best_thr** above\n",
    "* Produce the confusion matrix\n",
    "* Return TPR and PPV on the test set"
   ]
  },
  {
   "cell_type": "code",
   "execution_count": 42,
   "metadata": {},
   "outputs": [
    {
     "name": "stdout",
     "output_type": "stream",
     "text": [
      "Predicted    0  1\n",
      "True             \n",
      "0          155  0\n",
      "1           20  5\n"
     ]
    }
   ],
   "source": [
    "confusion_matrix_tpr = calc_confusion_matrix_for_probas_and_threshold(y_te_N, bestlrF3_yproba1_te_N, best_thr_tpr)\n",
    "print(confusion_matrix_tpr)\n"
   ]
  },
  {
   "cell_type": "markdown",
   "metadata": {},
   "source": [
    "### Step 1G: Use F=3 LR model, Pick threshold to maximize PPV s.t. TPR >= 0.98\n",
    "\n",
    "#### TODO: \n",
    "Using a similar logistic from **Step 1F** above\n",
    "* Choose threshold that makes TPR as large as possible, while satisfying PPV >= 0.98\n",
    "* Produce the confusion matrix using the chosen threshold\n",
    "* Return TPR and PPV on the test set using the chosen threshold"
   ]
  },
  {
   "cell_type": "code",
   "execution_count": 40,
   "metadata": {},
   "outputs": [
    {
     "name": "stdout",
     "output_type": "stream",
     "text": [
      "Figure2 column 3: chosen thr = 0.0296, tpr = 1.0000, ppv = 0.1852\n"
     ]
    }
   ],
   "source": [
    "# Find threshold that makes TPR as large as possible, while satisfying PPV >= 0.98\n",
    "# TODO Find the largest PPV while TPR >= 0.98\n",
    "thresh_grid, va_perf_grid = threshold_selection.compute_perf_metrics_across_thresholds(\n",
    "    y_va_N, bestlrF3_yproba1_va_N)\n",
    "\n",
    "best_thr_ppv = 0\n",
    "tpr2 = 0\n",
    "ppv2 = 0\n",
    "\n",
    "# Find the threshold that maximizes TPR while satisfying PPV>= 0.98\n",
    "for index, threshold in enumerate(thresh_grid):\n",
    "    \n",
    "    curr_tpr = va_perf_grid['tpr'][index]\n",
    "    curr_ppv = va_perf_grid['ppv'][index]\n",
    "    # Check if the current PPV is higher than 0.98\n",
    "    if curr_tpr >= 0.98: \n",
    "        # Replace the best tpr with curr tpr if higher than the previous tpr\n",
    "        if curr_ppv > ppv2:\n",
    "            best_thr_ppv = threshold\n",
    "            tpr2 = curr_tpr\n",
    "            ppv2 = curr_ppv\n",
    "            \n",
    "            \n",
    "print(\"Figure2 column 3: chosen thr = %.4f, tpr = %.4f, ppv = %.4f\" % (best_thr_ppv, tpr2, ppv2))"
   ]
  },
  {
   "cell_type": "code",
   "execution_count": 41,
   "metadata": {},
   "outputs": [
    {
     "name": "stdout",
     "output_type": "stream",
     "text": [
      "Predicted   0   1\n",
      "True             \n",
      "0          57  98\n",
      "1           0  25\n"
     ]
    }
   ],
   "source": [
    "confusion_matrix_ppv = calc_confusion_matrix_for_probas_and_threshold(y_te_N, bestlrF3_yproba1_te_N, best_thr_ppv)\n",
    "print(confusion_matrix_ppv)"
   ]
  },
  {
   "cell_type": "markdown",
   "metadata": {},
   "source": [
    "Once you finish all three parts of figure 2, plase **combine all 3 column** into **one figure** and include it in your PDF report. \n",
    "\n",
    "Remember to **add titles** (Threshold + which case) to each column."
   ]
  },
  {
   "cell_type": "markdown",
   "metadata": {},
   "source": [
    "#### Short Answer 1c and 1d in Report\n",
    "\n",
    "*See instructions on website*"
   ]
  },
  {
   "cell_type": "code",
   "execution_count": null,
   "metadata": {},
   "outputs": [],
   "source": []
  },
  {
   "cell_type": "code",
   "execution_count": null,
   "metadata": {},
   "outputs": [],
   "source": []
  }
 ],
 "metadata": {
  "kernelspec": {
   "display_name": "Python 3 (ipykernel)",
   "language": "python",
   "name": "python3"
  },
  "language_info": {
   "codemirror_mode": {
    "name": "ipython",
    "version": 3
   },
   "file_extension": ".py",
   "mimetype": "text/x-python",
   "name": "python",
   "nbconvert_exporter": "python",
   "pygments_lexer": "ipython3",
   "version": "3.10.9"
  }
 },
 "nbformat": 4,
 "nbformat_minor": 2
}
